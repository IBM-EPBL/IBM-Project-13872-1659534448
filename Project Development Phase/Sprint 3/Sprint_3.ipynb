{
  "nbformat": 4,
  "nbformat_minor": 0,
  "metadata": {
    "colab": {
      "provenance": [],
      "collapsed_sections": []
    },
    "kernelspec": {
      "name": "python3",
      "display_name": "Python 3"
    },
    "language_info": {
      "name": "python"
    }
  },
  "cells": [
    {
      "cell_type": "markdown",
      "source": [
        "**Sprint-3_Add Layers, Traing and Test Models**"
      ],
      "metadata": {
        "id": "KleL3AVzDb0n"
      }
    },
    {
      "cell_type": "code",
      "execution_count": 45,
      "metadata": {
        "id": "H7JYU4FiCQoE"
      },
      "outputs": [],
      "source": [
        "import numpy as np \n",
        "import pandas as pd \n",
        "import datetime\n",
        "from pylab import rcParams\n",
        "import matplotlib.pyplot as plt\n",
        "import warnings\n",
        "import itertools\n",
        "import statsmodels.api as sm"
      ]
    },
    {
      "cell_type": "code",
      "source": [
        "df=pd.read_csv(\"Crude Oil Prices Daily.csv\")"
      ],
      "metadata": {
        "id": "aTqg3jR_Cpov"
      },
      "execution_count": 43,
      "outputs": []
    },
    {
      "cell_type": "code",
      "source": [
        "df.head()"
      ],
      "metadata": {
        "colab": {
          "base_uri": "https://localhost:8080/",
          "height": 206
        },
        "id": "VbC2kE6xCssT",
        "outputId": "6887350f-6ede-4f7a-b071-7e39eeb8a6fe"
      },
      "execution_count": 6,
      "outputs": [
        {
          "output_type": "execute_result",
          "data": {
            "text/plain": [
              "       Date  Closing Value\n",
              "0  1/2/1986          25.56\n",
              "1  1/3/1986          26.00\n",
              "2  1/6/1986          26.53\n",
              "3  1/7/1986          25.85\n",
              "4  1/8/1986          25.87"
            ],
            "text/html": [
              "\n",
              "  <div id=\"df-c5ff110a-169b-4bdd-95ea-286b04236c19\">\n",
              "    <div class=\"colab-df-container\">\n",
              "      <div>\n",
              "<style scoped>\n",
              "    .dataframe tbody tr th:only-of-type {\n",
              "        vertical-align: middle;\n",
              "    }\n",
              "\n",
              "    .dataframe tbody tr th {\n",
              "        vertical-align: top;\n",
              "    }\n",
              "\n",
              "    .dataframe thead th {\n",
              "        text-align: right;\n",
              "    }\n",
              "</style>\n",
              "<table border=\"1\" class=\"dataframe\">\n",
              "  <thead>\n",
              "    <tr style=\"text-align: right;\">\n",
              "      <th></th>\n",
              "      <th>Date</th>\n",
              "      <th>Closing Value</th>\n",
              "    </tr>\n",
              "  </thead>\n",
              "  <tbody>\n",
              "    <tr>\n",
              "      <th>0</th>\n",
              "      <td>1/2/1986</td>\n",
              "      <td>25.56</td>\n",
              "    </tr>\n",
              "    <tr>\n",
              "      <th>1</th>\n",
              "      <td>1/3/1986</td>\n",
              "      <td>26.00</td>\n",
              "    </tr>\n",
              "    <tr>\n",
              "      <th>2</th>\n",
              "      <td>1/6/1986</td>\n",
              "      <td>26.53</td>\n",
              "    </tr>\n",
              "    <tr>\n",
              "      <th>3</th>\n",
              "      <td>1/7/1986</td>\n",
              "      <td>25.85</td>\n",
              "    </tr>\n",
              "    <tr>\n",
              "      <th>4</th>\n",
              "      <td>1/8/1986</td>\n",
              "      <td>25.87</td>\n",
              "    </tr>\n",
              "  </tbody>\n",
              "</table>\n",
              "</div>\n",
              "      <button class=\"colab-df-convert\" onclick=\"convertToInteractive('df-c5ff110a-169b-4bdd-95ea-286b04236c19')\"\n",
              "              title=\"Convert this dataframe to an interactive table.\"\n",
              "              style=\"display:none;\">\n",
              "        \n",
              "  <svg xmlns=\"http://www.w3.org/2000/svg\" height=\"24px\"viewBox=\"0 0 24 24\"\n",
              "       width=\"24px\">\n",
              "    <path d=\"M0 0h24v24H0V0z\" fill=\"none\"/>\n",
              "    <path d=\"M18.56 5.44l.94 2.06.94-2.06 2.06-.94-2.06-.94-.94-2.06-.94 2.06-2.06.94zm-11 1L8.5 8.5l.94-2.06 2.06-.94-2.06-.94L8.5 2.5l-.94 2.06-2.06.94zm10 10l.94 2.06.94-2.06 2.06-.94-2.06-.94-.94-2.06-.94 2.06-2.06.94z\"/><path d=\"M17.41 7.96l-1.37-1.37c-.4-.4-.92-.59-1.43-.59-.52 0-1.04.2-1.43.59L10.3 9.45l-7.72 7.72c-.78.78-.78 2.05 0 2.83L4 21.41c.39.39.9.59 1.41.59.51 0 1.02-.2 1.41-.59l7.78-7.78 2.81-2.81c.8-.78.8-2.07 0-2.86zM5.41 20L4 18.59l7.72-7.72 1.47 1.35L5.41 20z\"/>\n",
              "  </svg>\n",
              "      </button>\n",
              "      \n",
              "  <style>\n",
              "    .colab-df-container {\n",
              "      display:flex;\n",
              "      flex-wrap:wrap;\n",
              "      gap: 12px;\n",
              "    }\n",
              "\n",
              "    .colab-df-convert {\n",
              "      background-color: #E8F0FE;\n",
              "      border: none;\n",
              "      border-radius: 50%;\n",
              "      cursor: pointer;\n",
              "      display: none;\n",
              "      fill: #1967D2;\n",
              "      height: 32px;\n",
              "      padding: 0 0 0 0;\n",
              "      width: 32px;\n",
              "    }\n",
              "\n",
              "    .colab-df-convert:hover {\n",
              "      background-color: #E2EBFA;\n",
              "      box-shadow: 0px 1px 2px rgba(60, 64, 67, 0.3), 0px 1px 3px 1px rgba(60, 64, 67, 0.15);\n",
              "      fill: #174EA6;\n",
              "    }\n",
              "\n",
              "    [theme=dark] .colab-df-convert {\n",
              "      background-color: #3B4455;\n",
              "      fill: #D2E3FC;\n",
              "    }\n",
              "\n",
              "    [theme=dark] .colab-df-convert:hover {\n",
              "      background-color: #434B5C;\n",
              "      box-shadow: 0px 1px 3px 1px rgba(0, 0, 0, 0.15);\n",
              "      filter: drop-shadow(0px 1px 2px rgba(0, 0, 0, 0.3));\n",
              "      fill: #FFFFFF;\n",
              "    }\n",
              "  </style>\n",
              "\n",
              "      <script>\n",
              "        const buttonEl =\n",
              "          document.querySelector('#df-c5ff110a-169b-4bdd-95ea-286b04236c19 button.colab-df-convert');\n",
              "        buttonEl.style.display =\n",
              "          google.colab.kernel.accessAllowed ? 'block' : 'none';\n",
              "\n",
              "        async function convertToInteractive(key) {\n",
              "          const element = document.querySelector('#df-c5ff110a-169b-4bdd-95ea-286b04236c19');\n",
              "          const dataTable =\n",
              "            await google.colab.kernel.invokeFunction('convertToInteractive',\n",
              "                                                     [key], {});\n",
              "          if (!dataTable) return;\n",
              "\n",
              "          const docLinkHtml = 'Like what you see? Visit the ' +\n",
              "            '<a target=\"_blank\" href=https://colab.research.google.com/notebooks/data_table.ipynb>data table notebook</a>'\n",
              "            + ' to learn more about interactive tables.';\n",
              "          element.innerHTML = '';\n",
              "          dataTable['output_type'] = 'display_data';\n",
              "          await google.colab.output.renderOutput(dataTable, element);\n",
              "          const docLink = document.createElement('div');\n",
              "          docLink.innerHTML = docLinkHtml;\n",
              "          element.appendChild(docLink);\n",
              "        }\n",
              "      </script>\n",
              "    </div>\n",
              "  </div>\n",
              "  "
            ]
          },
          "metadata": {},
          "execution_count": 6
        }
      ]
    },
    {
      "cell_type": "code",
      "source": [
        "dateparse = lambda x: pd.datetime.strptime(x, '%b %d, %Y')"
      ],
      "metadata": {
        "id": "0kyHWIsHzJDQ"
      },
      "execution_count": 48,
      "outputs": []
    },
    {
      "cell_type": "code",
      "source": [
        "df = df.sort_values('Date')\n",
        "df = df.groupby('Date')['Closing Value'].sum().reset_index()\n",
        "df.set_index('Date', inplace=True)"
      ],
      "metadata": {
        "id": "9m7ZVOUiCtch"
      },
      "execution_count": 50,
      "outputs": []
    },
    {
      "cell_type": "code",
      "source": [
        "def DfInfo(df_initial):\n",
        "    # gives some infos on columns types and numer of null values\n",
        "    tab_info = pd.DataFrame(df_initial.dtypes).T.rename(index={0: 'column type'})\n",
        "    tab_info = tab_info.append(pd.DataFrame(df_initial.isnull().sum()).T.rename(index={0: 'null values (nb)'}))\n",
        "    tab_info = tab_info.append(pd.DataFrame(df_initial.isnull().sum() / df_initial.shape[0] * 100).T.\n",
        "                               rename(index={0: 'null values (%)'}))\n",
        "    return tab_info"
      ],
      "metadata": {
        "id": "_1OST4Crzeds"
      },
      "execution_count": 51,
      "outputs": []
    },
    {
      "cell_type": "code",
      "source": [
        "DfInfo(df)"
      ],
      "metadata": {
        "colab": {
          "base_uri": "https://localhost:8080/",
          "height": 143
        },
        "id": "6m8p91Sqzi1-",
        "outputId": "3d457d13-2f1c-471c-bec8-762eb5354246"
      },
      "execution_count": 52,
      "outputs": [
        {
          "output_type": "execute_result",
          "data": {
            "text/plain": [
              "                 Closing Value\n",
              "column type            float64\n",
              "null values (nb)             0\n",
              "null values (%)            0.0"
            ],
            "text/html": [
              "\n",
              "  <div id=\"df-ed1510ef-9889-4531-acfa-a9baf7d4fa51\">\n",
              "    <div class=\"colab-df-container\">\n",
              "      <div>\n",
              "<style scoped>\n",
              "    .dataframe tbody tr th:only-of-type {\n",
              "        vertical-align: middle;\n",
              "    }\n",
              "\n",
              "    .dataframe tbody tr th {\n",
              "        vertical-align: top;\n",
              "    }\n",
              "\n",
              "    .dataframe thead th {\n",
              "        text-align: right;\n",
              "    }\n",
              "</style>\n",
              "<table border=\"1\" class=\"dataframe\">\n",
              "  <thead>\n",
              "    <tr style=\"text-align: right;\">\n",
              "      <th></th>\n",
              "      <th>Closing Value</th>\n",
              "    </tr>\n",
              "  </thead>\n",
              "  <tbody>\n",
              "    <tr>\n",
              "      <th>column type</th>\n",
              "      <td>float64</td>\n",
              "    </tr>\n",
              "    <tr>\n",
              "      <th>null values (nb)</th>\n",
              "      <td>0</td>\n",
              "    </tr>\n",
              "    <tr>\n",
              "      <th>null values (%)</th>\n",
              "      <td>0.0</td>\n",
              "    </tr>\n",
              "  </tbody>\n",
              "</table>\n",
              "</div>\n",
              "      <button class=\"colab-df-convert\" onclick=\"convertToInteractive('df-ed1510ef-9889-4531-acfa-a9baf7d4fa51')\"\n",
              "              title=\"Convert this dataframe to an interactive table.\"\n",
              "              style=\"display:none;\">\n",
              "        \n",
              "  <svg xmlns=\"http://www.w3.org/2000/svg\" height=\"24px\"viewBox=\"0 0 24 24\"\n",
              "       width=\"24px\">\n",
              "    <path d=\"M0 0h24v24H0V0z\" fill=\"none\"/>\n",
              "    <path d=\"M18.56 5.44l.94 2.06.94-2.06 2.06-.94-2.06-.94-.94-2.06-.94 2.06-2.06.94zm-11 1L8.5 8.5l.94-2.06 2.06-.94-2.06-.94L8.5 2.5l-.94 2.06-2.06.94zm10 10l.94 2.06.94-2.06 2.06-.94-2.06-.94-.94-2.06-.94 2.06-2.06.94z\"/><path d=\"M17.41 7.96l-1.37-1.37c-.4-.4-.92-.59-1.43-.59-.52 0-1.04.2-1.43.59L10.3 9.45l-7.72 7.72c-.78.78-.78 2.05 0 2.83L4 21.41c.39.39.9.59 1.41.59.51 0 1.02-.2 1.41-.59l7.78-7.78 2.81-2.81c.8-.78.8-2.07 0-2.86zM5.41 20L4 18.59l7.72-7.72 1.47 1.35L5.41 20z\"/>\n",
              "  </svg>\n",
              "      </button>\n",
              "      \n",
              "  <style>\n",
              "    .colab-df-container {\n",
              "      display:flex;\n",
              "      flex-wrap:wrap;\n",
              "      gap: 12px;\n",
              "    }\n",
              "\n",
              "    .colab-df-convert {\n",
              "      background-color: #E8F0FE;\n",
              "      border: none;\n",
              "      border-radius: 50%;\n",
              "      cursor: pointer;\n",
              "      display: none;\n",
              "      fill: #1967D2;\n",
              "      height: 32px;\n",
              "      padding: 0 0 0 0;\n",
              "      width: 32px;\n",
              "    }\n",
              "\n",
              "    .colab-df-convert:hover {\n",
              "      background-color: #E2EBFA;\n",
              "      box-shadow: 0px 1px 2px rgba(60, 64, 67, 0.3), 0px 1px 3px 1px rgba(60, 64, 67, 0.15);\n",
              "      fill: #174EA6;\n",
              "    }\n",
              "\n",
              "    [theme=dark] .colab-df-convert {\n",
              "      background-color: #3B4455;\n",
              "      fill: #D2E3FC;\n",
              "    }\n",
              "\n",
              "    [theme=dark] .colab-df-convert:hover {\n",
              "      background-color: #434B5C;\n",
              "      box-shadow: 0px 1px 3px 1px rgba(0, 0, 0, 0.15);\n",
              "      filter: drop-shadow(0px 1px 2px rgba(0, 0, 0, 0.3));\n",
              "      fill: #FFFFFF;\n",
              "    }\n",
              "  </style>\n",
              "\n",
              "      <script>\n",
              "        const buttonEl =\n",
              "          document.querySelector('#df-ed1510ef-9889-4531-acfa-a9baf7d4fa51 button.colab-df-convert');\n",
              "        buttonEl.style.display =\n",
              "          google.colab.kernel.accessAllowed ? 'block' : 'none';\n",
              "\n",
              "        async function convertToInteractive(key) {\n",
              "          const element = document.querySelector('#df-ed1510ef-9889-4531-acfa-a9baf7d4fa51');\n",
              "          const dataTable =\n",
              "            await google.colab.kernel.invokeFunction('convertToInteractive',\n",
              "                                                     [key], {});\n",
              "          if (!dataTable) return;\n",
              "\n",
              "          const docLinkHtml = 'Like what you see? Visit the ' +\n",
              "            '<a target=\"_blank\" href=https://colab.research.google.com/notebooks/data_table.ipynb>data table notebook</a>'\n",
              "            + ' to learn more about interactive tables.';\n",
              "          element.innerHTML = '';\n",
              "          dataTable['output_type'] = 'display_data';\n",
              "          await google.colab.output.renderOutput(dataTable, element);\n",
              "          const docLink = document.createElement('div');\n",
              "          docLink.innerHTML = docLinkHtml;\n",
              "          element.appendChild(docLink);\n",
              "        }\n",
              "      </script>\n",
              "    </div>\n",
              "  </div>\n",
              "  "
            ]
          },
          "metadata": {},
          "execution_count": 52
        }
      ]
    },
    {
      "cell_type": "code",
      "source": [
        "df.index"
      ],
      "metadata": {
        "colab": {
          "base_uri": "https://localhost:8080/"
        },
        "id": "HpDBx8WdzmG5",
        "outputId": "8c9ab8c4-f6d4-47b2-b229-36e20195f376"
      },
      "execution_count": 53,
      "outputs": [
        {
          "output_type": "execute_result",
          "data": {
            "text/plain": [
              "Index(['1/1/2018', '1/10/1986', '1/10/1989', '1/10/1990', '1/10/1991',\n",
              "       '1/10/1992', '1/10/1994', '1/10/1995', '1/10/1996', '1/10/1997',\n",
              "       ...\n",
              "       '9/9/2004', '9/9/2005', '9/9/2008', '9/9/2009', '9/9/2010', '9/9/2011',\n",
              "       '9/9/2013', '9/9/2014', '9/9/2015', '9/9/2016'],\n",
              "      dtype='object', name='Date', length=8223)"
            ]
          },
          "metadata": {},
          "execution_count": 53
        }
      ]
    },
    {
      "cell_type": "code",
      "source": [
        "scaler = MinMaxScaler(feature_range = (0, 1))\n",
        "df = sc.fit_transform(df)"
      ],
      "metadata": {
        "id": "MyWc47PgzpTV"
      },
      "execution_count": 55,
      "outputs": []
    },
    {
      "cell_type": "code",
      "source": [
        "train_size = int(len(df) * 0.70)\n",
        "test_size = len(df) - train_size\n",
        "train, test = df[0:train_size, :], df[train_size:len(df), :]"
      ],
      "metadata": {
        "id": "f-eJ245nz8-5"
      },
      "execution_count": 56,
      "outputs": []
    },
    {
      "cell_type": "code",
      "source": [
        "def create_data_set(_data_set, _look_back=1):\n",
        "    data_x, data_y = [], []\n",
        "    for i in range(len(_data_set) - _look_back - 1):\n",
        "        a = _data_set[i:(i + _look_back), 0]\n",
        "        data_x.append(a)\n",
        "        data_y.append(_data_set[i + _look_back, 0])\n",
        "    return np.array(data_x), np.array(data_y)"
      ],
      "metadata": {
        "id": "CE8FahUPzsaZ"
      },
      "execution_count": 57,
      "outputs": []
    },
    {
      "cell_type": "code",
      "source": [
        "look_back =90\n",
        "x_train,y_train,x_test,y_test = [],[],[],[]\n",
        "x_train,y_train=create_data_set(train,look_back)\n",
        "x_train = np.reshape(x_train, (x_train.shape[0], x_train.shape[1], 1))\n",
        "x_test,y_test=create_data_set(test,look_back)\n",
        "x_test = np.reshape(x_test, (x_test.shape[0], x_test.shape[1], 1))"
      ],
      "metadata": {
        "id": "sgwVqk8p0Csp"
      },
      "execution_count": 58,
      "outputs": []
    },
    {
      "cell_type": "code",
      "source": [
        "print(x_train.shape), print(y_train.shape)"
      ],
      "metadata": {
        "colab": {
          "base_uri": "https://localhost:8080/"
        },
        "id": "PipUcFtEDOgI",
        "outputId": "a2e86554-5268-483e-b339-054dc59ef7db"
      },
      "execution_count": 67,
      "outputs": [
        {
          "output_type": "stream",
          "name": "stdout",
          "text": [
            "(5665, 90, 1)\n",
            "(1, 5665)\n"
          ]
        },
        {
          "output_type": "execute_result",
          "data": {
            "text/plain": [
              "(None, None)"
            ]
          },
          "metadata": {},
          "execution_count": 67
        }
      ]
    },
    {
      "cell_type": "code",
      "source": [
        "print(x_test.shape), print(y_test.shape)"
      ],
      "metadata": {
        "colab": {
          "base_uri": "https://localhost:8080/"
        },
        "id": "Uoeoyk08DRAR",
        "outputId": "e7cf3ad0-02d7-47c9-84f2-30ec3a3d7394"
      },
      "execution_count": 68,
      "outputs": [
        {
          "output_type": "stream",
          "name": "stdout",
          "text": [
            "(2376, 90, 1)\n",
            "(1, 2376)\n"
          ]
        },
        {
          "output_type": "execute_result",
          "data": {
            "text/plain": [
              "(None, None)"
            ]
          },
          "metadata": {},
          "execution_count": 68
        }
      ]
    },
    {
      "cell_type": "code",
      "source": [
        "x_train"
      ],
      "metadata": {
        "colab": {
          "base_uri": "https://localhost:8080/"
        },
        "id": "b3c_XfMdDTig",
        "outputId": "7e1fe332-38f8-4c30-f429-925588d95a63"
      },
      "execution_count": 69,
      "outputs": [
        {
          "output_type": "execute_result",
          "data": {
            "text/plain": [
              "array([[[0.        ],\n",
              "        [0.17651917],\n",
              "        [0.12249673],\n",
              "        ...,\n",
              "        [0.25992705],\n",
              "        [0.54820728],\n",
              "        [0.62893125]],\n",
              "\n",
              "       [[0.17651917],\n",
              "        [0.12249673],\n",
              "        [0.15759411],\n",
              "        ...,\n",
              "        [0.54820728],\n",
              "        [0.62893125],\n",
              "        [0.67916867]],\n",
              "\n",
              "       [[0.12249673],\n",
              "        [0.15759411],\n",
              "        [0.18959466],\n",
              "        ...,\n",
              "        [0.62893125],\n",
              "        [0.67916867],\n",
              "        [0.62934416]],\n",
              "\n",
              "       ...,\n",
              "\n",
              "       [[0.40189939],\n",
              "        [0.92209758],\n",
              "        [0.48909229],\n",
              "        ...,\n",
              "        [0.14231643],\n",
              "        [0.1280022 ],\n",
              "        [0.22758241]],\n",
              "\n",
              "       [[0.92209758],\n",
              "        [0.48909229],\n",
              "        [0.52866286],\n",
              "        ...,\n",
              "        [0.1280022 ],\n",
              "        [0.22758241],\n",
              "        [0.18250637]],\n",
              "\n",
              "       [[0.48909229],\n",
              "        [0.52866286],\n",
              "        [0.64014865],\n",
              "        ...,\n",
              "        [0.22758241],\n",
              "        [0.18250637],\n",
              "        [0.17631271]]])"
            ]
          },
          "metadata": {},
          "execution_count": 69
        }
      ]
    },
    {
      "cell_type": "code",
      "source": [
        "from keras.models import Sequential\n",
        "from keras.layers import Dense\n",
        "from keras.layers import LSTM\n",
        "from keras.layers import Dropout\n",
        "from sklearn.metrics import mean_squared_error\n",
        "from keras.callbacks import ReduceLROnPlateau, EarlyStopping, ModelCheckpoint\n",
        "from sklearn.metrics import mean_squared_error\n",
        "from sklearn.metrics import mean_absolute_error\n",
        "import seaborn as sns"
      ],
      "metadata": {
        "id": "dmw6GpWHul0y"
      },
      "execution_count": 59,
      "outputs": []
    },
    {
      "cell_type": "code",
      "source": [
        "regressor = Sequential()\n",
        "\n",
        "regressor.add(LSTM(units = 60, return_sequences = True, input_shape = (x_train.shape[1], 1)))\n",
        "regressor.add(Dropout(0.1))\n",
        "\n",
        "regressor.add(LSTM(units = 60, return_sequences = True))\n",
        "regressor.add(Dropout(0.1))\n",
        "\n",
        "regressor.add(LSTM(units = 60))\n",
        "regressor.add(Dropout(0.1))\n",
        "\n",
        "regressor.add(Dense(units = 1))\n"
      ],
      "metadata": {
        "id": "n8bBXQYtusPr"
      },
      "execution_count": 60,
      "outputs": []
    },
    {
      "cell_type": "code",
      "source": [
        "regressor.compile(optimizer = 'adam', loss = 'mean_squared_error')\n",
        "reduce_lr = ReduceLROnPlateau(monitor='val_loss',patience=5)"
      ],
      "metadata": {
        "id": "90-CZ68JvUIl"
      },
      "execution_count": 61,
      "outputs": []
    },
    {
      "cell_type": "code",
      "source": [
        "history =regressor.fit(x_train, y_train, epochs = 20, batch_size = 15,validation_data=(x_test, y_test), callbacks=[reduce_lr],shuffle=False)"
      ],
      "metadata": {
        "colab": {
          "base_uri": "https://localhost:8080/"
        },
        "id": "qxh3gDKkvbXl",
        "outputId": "e6e2c610-7379-4b27-aeeb-87c188577d2d"
      },
      "execution_count": 62,
      "outputs": [
        {
          "output_type": "stream",
          "name": "stdout",
          "text": [
            "Epoch 1/20\n",
            "378/378 [==============================] - 66s 152ms/step - loss: 0.0194 - val_loss: 0.0110 - lr: 0.0010\n",
            "Epoch 2/20\n",
            "378/378 [==============================] - 57s 151ms/step - loss: 0.0128 - val_loss: 0.0106 - lr: 0.0010\n",
            "Epoch 3/20\n",
            "378/378 [==============================] - 55s 144ms/step - loss: 0.0120 - val_loss: 0.0106 - lr: 0.0010\n",
            "Epoch 4/20\n",
            "378/378 [==============================] - 56s 148ms/step - loss: 0.0113 - val_loss: 0.0108 - lr: 0.0010\n",
            "Epoch 5/20\n",
            "378/378 [==============================] - 55s 147ms/step - loss: 0.0112 - val_loss: 0.0105 - lr: 0.0010\n",
            "Epoch 6/20\n",
            "378/378 [==============================] - 56s 148ms/step - loss: 0.0111 - val_loss: 0.0104 - lr: 0.0010\n",
            "Epoch 7/20\n",
            "378/378 [==============================] - 55s 145ms/step - loss: 0.0109 - val_loss: 0.0105 - lr: 0.0010\n",
            "Epoch 8/20\n",
            "378/378 [==============================] - 55s 145ms/step - loss: 0.0109 - val_loss: 0.0102 - lr: 0.0010\n",
            "Epoch 9/20\n",
            "378/378 [==============================] - 56s 149ms/step - loss: 0.0106 - val_loss: 0.0101 - lr: 0.0010\n",
            "Epoch 10/20\n",
            "378/378 [==============================] - 57s 151ms/step - loss: 0.0104 - val_loss: 0.0099 - lr: 0.0010\n",
            "Epoch 11/20\n",
            "378/378 [==============================] - 55s 146ms/step - loss: 0.0103 - val_loss: 0.0101 - lr: 0.0010\n",
            "Epoch 12/20\n",
            "378/378 [==============================] - 55s 146ms/step - loss: 0.0099 - val_loss: 0.0095 - lr: 0.0010\n",
            "Epoch 13/20\n",
            "378/378 [==============================] - 56s 148ms/step - loss: 0.0097 - val_loss: 0.0091 - lr: 0.0010\n",
            "Epoch 14/20\n",
            "378/378 [==============================] - 54s 143ms/step - loss: 0.0092 - val_loss: 0.0085 - lr: 0.0010\n",
            "Epoch 15/20\n",
            "378/378 [==============================] - 55s 145ms/step - loss: 0.0089 - val_loss: 0.0081 - lr: 0.0010\n",
            "Epoch 16/20\n",
            "378/378 [==============================] - 54s 142ms/step - loss: 0.0085 - val_loss: 0.0079 - lr: 0.0010\n",
            "Epoch 17/20\n",
            "378/378 [==============================] - 56s 148ms/step - loss: 0.0086 - val_loss: 0.0079 - lr: 0.0010\n",
            "Epoch 18/20\n",
            "378/378 [==============================] - 55s 145ms/step - loss: 0.0083 - val_loss: 0.0076 - lr: 0.0010\n",
            "Epoch 19/20\n",
            "378/378 [==============================] - 55s 145ms/step - loss: 0.0080 - val_loss: 0.0070 - lr: 0.0010\n",
            "Epoch 20/20\n",
            "378/378 [==============================] - 54s 142ms/step - loss: 0.0082 - val_loss: 0.0070 - lr: 0.0010\n"
          ]
        }
      ]
    },
    {
      "cell_type": "code",
      "source": [
        "regressor.save('model1.h5')"
      ],
      "metadata": {
        "id": "ff2qp2Rn5m7i"
      },
      "execution_count": 72,
      "outputs": []
    },
    {
      "cell_type": "code",
      "source": [
        "train_predict = regressor.predict(x_train)\n",
        "test_predict = regressor.predict(x_test)"
      ],
      "metadata": {
        "colab": {
          "base_uri": "https://localhost:8080/"
        },
        "id": "VJhF5ENowVEX",
        "outputId": "464f39be-c007-4238-f1d9-6f68243c18e5"
      },
      "execution_count": 63,
      "outputs": [
        {
          "output_type": "stream",
          "name": "stdout",
          "text": [
            "178/178 [==============================] - 10s 39ms/step\n",
            "75/75 [==============================] - 3s 42ms/step\n"
          ]
        }
      ]
    },
    {
      "cell_type": "code",
      "source": [
        "train_predict = scaler.inverse_transform(train_predict)\n",
        "y_train = scaler.inverse_transform([y_train])\n",
        "test_predict = scaler.inverse_transform(test_predict)\n",
        "y_test = scaler.inverse_transform([y_test])"
      ],
      "metadata": {
        "id": "n37MjHDNwabE"
      },
      "execution_count": 64,
      "outputs": []
    },
    {
      "cell_type": "code",
      "source": [
        "print('Train Mean Absolute Error:', mean_absolute_error(y_train[0], train_predict[:,0]))\n",
        "print('Train Root Mean Squared Error:',np.sqrt(mean_squared_error(y_train[0], train_predict[:,0])))\n",
        "print('Test Mean Absolute Error:', mean_absolute_error(y_test[0], test_predict[:,0]))\n",
        "print('Test Root Mean Squared Error:',np.sqrt(mean_squared_error(y_test[0], test_predict[:,0])))\n",
        "plt.figure(figsize=(8,4))\n",
        "plt.plot(history.history['loss'], label='Train Loss')\n",
        "plt.plot(history.history['val_loss'], label='Test Loss')\n",
        "plt.title('model loss')\n",
        "plt.ylabel('loss')\n",
        "plt.xlabel('epochs')\n",
        "plt.legend(loc='upper right')\n",
        "plt.show();"
      ],
      "metadata": {
        "colab": {
          "base_uri": "https://localhost:8080/",
          "height": 364
        },
        "id": "88EKY2z-xLQu",
        "outputId": "ca11af06-610b-4603-e376-737453c7361a"
      },
      "execution_count": 65,
      "outputs": [
        {
          "output_type": "stream",
          "name": "stdout",
          "text": [
            "Train Mean Absolute Error: 8.628606553408483\n",
            "Train Root Mean Squared Error: 12.48177120313532\n",
            "Test Mean Absolute Error: 7.733718616936406\n",
            "Test Root Mean Squared Error: 11.325645515332173\n"
          ]
        },
        {
          "output_type": "display_data",
          "data": {
            "text/plain": [
              "<Figure size 576x288 with 1 Axes>"
            ],
            "image/png": "[encoded data removed]"
          },
          "metadata": {
            "needs_background": "light"
          }
        }
      ]
    },
    {
      "cell_type": "code",
      "source": [
        "aa=[x for x in range(180)]\n",
        "plt.figure(figsize=(8,4))\n",
        "plt.plot(aa, y_test[0][:180], marker='.', label=\"actual\")\n",
        "plt.plot(aa, test_predict[:,0][:180], 'r', label=\"prediction\")\n",
        "plt.tight_layout()\n",
        "sns.despine(top=True)\n",
        "plt.subplots_adjust(left=0.07)\n",
        "plt.ylabel('Price', size=15)\n",
        "plt.xlabel('Time step', size=15)\n",
        "plt.legend(fontsize=15)\n",
        "plt.show();"
      ],
      "metadata": {
        "colab": {
          "base_uri": "https://localhost:8080/",
          "height": 316
        },
        "id": "Ehbe_jQpxUGr",
        "outputId": "e65a5625-eb3f-40fb-ec1c-5d1436709cf2"
      },
      "execution_count": 66,
      "outputs": [
        {
          "output_type": "display_data",
          "data": {
            "text/plain": [
              "<Figure size 576x288 with 1 Axes>"
            ],
            "image/png": "[encoded data removed]"
          },
          "metadata": {
            "needs_background": "light"
          }
        }
      ]
    }
  ]
}